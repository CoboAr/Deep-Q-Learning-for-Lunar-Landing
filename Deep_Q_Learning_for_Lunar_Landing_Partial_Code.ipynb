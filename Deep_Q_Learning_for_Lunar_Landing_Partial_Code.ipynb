{
  "cells": [
    {
      "cell_type": "markdown",
      "metadata": {
        "id": "LbZcI9ZXHl3a"
      },
      "source": [
        "# Deep Q-Learning for Lunar Landing"
      ]
    },
    {
      "cell_type": "markdown",
      "metadata": {
        "id": "E8yPRjteXgPb"
      },
      "source": [
        "## Part 0 - Installing the required packages and importing the libraries"
      ]
    },
    {
      "cell_type": "markdown",
      "metadata": {
        "id": "slEm5teGWjWU"
      },
      "source": [
        "### Installing Gymnasium"
      ]
    },
    {
      "cell_type": "code",
      "execution_count": 1,
      "metadata": {
        "id": "dbnq3XpoKa_7",
        "colab": {
          "base_uri": "https://localhost:8080/"
        },
        "outputId": "7d046856-3a47-4c97-bd82-116b5df04042"
      },
      "outputs": [
        {
          "output_type": "stream",
          "name": "stdout",
          "text": [
            "Requirement already satisfied: gymnasium in /usr/local/lib/python3.10/dist-packages (0.29.1)\n",
            "Requirement already satisfied: numpy>=1.21.0 in /usr/local/lib/python3.10/dist-packages (from gymnasium) (1.25.2)\n",
            "Requirement already satisfied: cloudpickle>=1.2.0 in /usr/local/lib/python3.10/dist-packages (from gymnasium) (2.2.1)\n",
            "Requirement already satisfied: typing-extensions>=4.3.0 in /usr/local/lib/python3.10/dist-packages (from gymnasium) (4.11.0)\n",
            "Requirement already satisfied: farama-notifications>=0.0.1 in /usr/local/lib/python3.10/dist-packages (from gymnasium) (0.0.4)\n",
            "Requirement already satisfied: gymnasium[accept-rom-license,atari] in /usr/local/lib/python3.10/dist-packages (0.29.1)\n",
            "Requirement already satisfied: numpy>=1.21.0 in /usr/local/lib/python3.10/dist-packages (from gymnasium[accept-rom-license,atari]) (1.25.2)\n",
            "Requirement already satisfied: cloudpickle>=1.2.0 in /usr/local/lib/python3.10/dist-packages (from gymnasium[accept-rom-license,atari]) (2.2.1)\n",
            "Requirement already satisfied: typing-extensions>=4.3.0 in /usr/local/lib/python3.10/dist-packages (from gymnasium[accept-rom-license,atari]) (4.11.0)\n",
            "Requirement already satisfied: farama-notifications>=0.0.1 in /usr/local/lib/python3.10/dist-packages (from gymnasium[accept-rom-license,atari]) (0.0.4)\n",
            "Requirement already satisfied: autorom[accept-rom-license]~=0.4.2 in /usr/local/lib/python3.10/dist-packages (from gymnasium[accept-rom-license,atari]) (0.4.2)\n",
            "Requirement already satisfied: shimmy[atari]<1.0,>=0.1.0 in /usr/local/lib/python3.10/dist-packages (from gymnasium[accept-rom-license,atari]) (0.2.1)\n",
            "Requirement already satisfied: click in /usr/local/lib/python3.10/dist-packages (from autorom[accept-rom-license]~=0.4.2->gymnasium[accept-rom-license,atari]) (8.1.7)\n",
            "Requirement already satisfied: requests in /usr/local/lib/python3.10/dist-packages (from autorom[accept-rom-license]~=0.4.2->gymnasium[accept-rom-license,atari]) (2.31.0)\n",
            "Requirement already satisfied: tqdm in /usr/local/lib/python3.10/dist-packages (from autorom[accept-rom-license]~=0.4.2->gymnasium[accept-rom-license,atari]) (4.66.2)\n",
            "Requirement already satisfied: AutoROM.accept-rom-license in /usr/local/lib/python3.10/dist-packages (from autorom[accept-rom-license]~=0.4.2->gymnasium[accept-rom-license,atari]) (0.6.1)\n",
            "Requirement already satisfied: ale-py~=0.8.1 in /usr/local/lib/python3.10/dist-packages (from shimmy[atari]<1.0,>=0.1.0->gymnasium[accept-rom-license,atari]) (0.8.1)\n",
            "Requirement already satisfied: importlib-resources in /usr/local/lib/python3.10/dist-packages (from ale-py~=0.8.1->shimmy[atari]<1.0,>=0.1.0->gymnasium[accept-rom-license,atari]) (6.4.0)\n",
            "Requirement already satisfied: charset-normalizer<4,>=2 in /usr/local/lib/python3.10/dist-packages (from requests->autorom[accept-rom-license]~=0.4.2->gymnasium[accept-rom-license,atari]) (3.3.2)\n",
            "Requirement already satisfied: idna<4,>=2.5 in /usr/local/lib/python3.10/dist-packages (from requests->autorom[accept-rom-license]~=0.4.2->gymnasium[accept-rom-license,atari]) (3.7)\n",
            "Requirement already satisfied: urllib3<3,>=1.21.1 in /usr/local/lib/python3.10/dist-packages (from requests->autorom[accept-rom-license]~=0.4.2->gymnasium[accept-rom-license,atari]) (2.0.7)\n",
            "Requirement already satisfied: certifi>=2017.4.17 in /usr/local/lib/python3.10/dist-packages (from requests->autorom[accept-rom-license]~=0.4.2->gymnasium[accept-rom-license,atari]) (2024.2.2)\n",
            "Reading package lists... Done\n",
            "Building dependency tree... Done\n",
            "Reading state information... Done\n",
            "swig is already the newest version (4.0.2-1ubuntu1).\n",
            "0 upgraded, 0 newly installed, 0 to remove and 45 not upgraded.\n",
            "Requirement already satisfied: gymnasium[box2d] in /usr/local/lib/python3.10/dist-packages (0.29.1)\n",
            "Requirement already satisfied: numpy>=1.21.0 in /usr/local/lib/python3.10/dist-packages (from gymnasium[box2d]) (1.25.2)\n",
            "Requirement already satisfied: cloudpickle>=1.2.0 in /usr/local/lib/python3.10/dist-packages (from gymnasium[box2d]) (2.2.1)\n",
            "Requirement already satisfied: typing-extensions>=4.3.0 in /usr/local/lib/python3.10/dist-packages (from gymnasium[box2d]) (4.11.0)\n",
            "Requirement already satisfied: farama-notifications>=0.0.1 in /usr/local/lib/python3.10/dist-packages (from gymnasium[box2d]) (0.0.4)\n",
            "Requirement already satisfied: box2d-py==2.3.5 in /usr/local/lib/python3.10/dist-packages (from gymnasium[box2d]) (2.3.5)\n",
            "Requirement already satisfied: pygame>=2.1.3 in /usr/local/lib/python3.10/dist-packages (from gymnasium[box2d]) (2.5.2)\n",
            "Requirement already satisfied: swig==4.* in /usr/local/lib/python3.10/dist-packages (from gymnasium[box2d]) (4.2.1)\n"
          ]
        }
      ],
      "source": [
        "!pip install gymnasium\n",
        "!pip install \"gymnasium[atari, accept-rom-license]\"\n",
        "!apt-get install -y swig\n",
        "!pip install gymnasium[box2d]"
      ]
    },
    {
      "cell_type": "markdown",
      "metadata": {
        "id": "brqiMN3UW9T9"
      },
      "source": [
        "### Importing the libraries"
      ]
    },
    {
      "cell_type": "code",
      "execution_count": 2,
      "metadata": {
        "id": "mZaKXP_aMl9O"
      },
      "outputs": [],
      "source": [
        "import os\n",
        "import random\n",
        "import numpy as np\n",
        "import torch\n",
        "import torch.nn as nn\n",
        "import torch.optim as optim\n",
        "import torch.nn.functional as F\n",
        "import torch.autograd as autograd\n",
        "from torch.autograd import Variable\n",
        "from collections import deque, namedtuple"
      ]
    },
    {
      "cell_type": "markdown",
      "metadata": {
        "id": "EzlDKXvkXzGI"
      },
      "source": [
        "## Part 1 - Building the AI"
      ]
    },
    {
      "cell_type": "markdown",
      "metadata": {
        "id": "UtG6Zc83YYy3"
      },
      "source": [
        "### Creating the architecture of the Neural Network"
      ]
    },
    {
      "cell_type": "code",
      "source": [
        "class Network(nn.Module):\n",
        "\n",
        "  def __init__(self, state_size, action_size, seed = 42):\n",
        "      super().__init__()\n",
        "      self.seed = torch.manual_seed(seed)\n",
        "      self.fc1 = nn.Linear(state_size, 64)  # state_size = number of neurons in the input layer; 64 = number of neurons in the first fully connected layer (found by trial and error)\n",
        "      self.fc2 = nn.Linear(64, 64)  # 64 = number of neurons in the first (previous) fully connected layer; and 64 = number of neurons in the second fully connected layer (found by trial and error)\n",
        "      self.fc3 = nn.Linear(64, action_size)  # 64 = number of neurons in the second (previous) fully connected layer; action_size = number of neurons in the output layer\n",
        "\n",
        "  def forward(self, state):  # forward inputs to the fully connected neuron layers\n",
        "    x = self.fc1(state)\n",
        "    x = F.relu(x)\n",
        "    x = self.fc2(x)\n",
        "    x = F.relu(x)\n",
        "    return self.fc3(x)\n"
      ],
      "metadata": {
        "id": "Wd8RZwRfo4s_"
      },
      "execution_count": 3,
      "outputs": []
    },
    {
      "cell_type": "markdown",
      "metadata": {
        "id": "UxVrBnFWZKb1"
      },
      "source": [
        "## Part 2 - Training the AI"
      ]
    },
    {
      "cell_type": "markdown",
      "metadata": {
        "id": "T364fz9qZb2j"
      },
      "source": [
        "### Setting up the environment"
      ]
    },
    {
      "cell_type": "code",
      "source": [
        "import gymnasium as gym\n",
        "env = gym.make(\"LunarLander-v2\")\n",
        "state_shape = env.observation_space.shape\n",
        "state_size = env.observation_space.shape[0]\n",
        "number_actions = env.action_space.n\n",
        "print('State shape: ', state_shape)\n",
        "print('State size: ', state_size)\n",
        "print('Number of actions: ', number_actions)"
      ],
      "metadata": {
        "colab": {
          "base_uri": "https://localhost:8080/"
        },
        "id": "XM5it9Qjvj6P",
        "outputId": "dcab89bc-c398-462a-d5a8-207d60b619d3"
      },
      "execution_count": 4,
      "outputs": [
        {
          "output_type": "stream",
          "name": "stdout",
          "text": [
            "State shape:  (8,)\n",
            "State size:  8\n",
            "Number of actions:  4\n"
          ]
        }
      ]
    },
    {
      "cell_type": "markdown",
      "metadata": {
        "id": "c_dZmOIvZgj-"
      },
      "source": [
        "### Initializing the hyperparameters"
      ]
    },
    {
      "cell_type": "code",
      "source": [
        "learning_rate = 5e-4   # no rule of thumb(best value after experimentation)\n",
        "minibatch_size = 100\n",
        "discount_factor = 0.99\n",
        "replay_buffer_size = int(1e5)\n",
        "interpolation_parameter = 1e-3"
      ],
      "metadata": {
        "colab": {
          "base_uri": "https://localhost:8080/"
        },
        "id": "GBhavN5cxVv8",
        "outputId": "d735f2ff-a313-46e0-adf3-0cff73f53f03"
      },
      "execution_count": 5,
      "outputs": [
        {
          "output_type": "stream",
          "name": "stderr",
          "text": [
            "/usr/local/lib/python3.10/dist-packages/ipykernel/ipkernel.py:283: DeprecationWarning: `should_run_async` will not call `transform_cell` automatically in the future. Please pass the result to `transformed_cell` argument and any exception that happen during thetransform in `preprocessing_exc_tuple` in IPython 7.17 and above.\n",
            "  and should_run_async(code)\n"
          ]
        }
      ]
    },
    {
      "cell_type": "markdown",
      "metadata": {
        "id": "8hD_Vs-bYnip"
      },
      "source": [
        "### Implementing Experience Replay"
      ]
    },
    {
      "cell_type": "code",
      "source": [
        "class ReplayMemory():\n",
        "\n",
        "  def __init__(self, capacity):\n",
        "     self.device = torch.device('cuda:0' if torch.cuda.is_available() else 'cpu')  # execute the code with a GPU to run it faster\n",
        "     self.capacity = capacity\n",
        "     self.memory = []\n",
        "\n",
        "  def push(self, event):\n",
        "    self.memory.append(event)\n",
        "    if len(self.memory) > self.capacity:\n",
        "      del self.memory[0]\n",
        "\n",
        "  def sample(self, batch_size):\n",
        "    experiences = random.sample(self.memory, k = batch_size)\n",
        "    states = torch.from_numpy(np.vstack([e[0] for e in experiences if e is not None])).float().to(self.device)\n",
        "    actions = torch.from_numpy(np.vstack([e[1] for e in experiences if e is not None])).long().to(self.device)\n",
        "    rewards = torch.from_numpy(np.vstack([e[2] for e in experiences if e is not None])).float().to(self.device)\n",
        "    next_states = torch.from_numpy(np.vstack([e[3] for e in experiences if e is not None])).float().to(self.device)\n",
        "    dones = torch.from_numpy(np.vstack([e[4] for e in experiences if e is not None]).astype(np.uint8)).float().to(self.device)\n",
        "    return states, next_states, actions, rewards, dones"
      ],
      "metadata": {
        "id": "iI_Z_H1nyVz2"
      },
      "execution_count": 6,
      "outputs": []
    },
    {
      "cell_type": "markdown",
      "metadata": {
        "id": "JmEkbFbUY6Jt"
      },
      "source": [
        "### Implementing the DQN class"
      ]
    },
    {
      "cell_type": "code",
      "source": [
        "class Agent():\n",
        "\n",
        "  def __init__(self, state_size, action_size):\n",
        "    self.device = torch.device('cuda:0' if torch.cuda.is_available() else 'cpu')  # execute the code with a GPU to run it faster\n",
        "    self.state_size = state_size\n",
        "    self.action_size = action_size\n",
        "    self.local_qnetwork = Network(state_size, action_size).to(self.device)\n",
        "    self.target_qnetwork = Network(state_size, action_size).to(self.device)\n",
        "    self.optimizer = optim.Adam(self.local_qnetwork.parameters(), lr = learning_rate)\n",
        "    self.memory = ReplayMemory(capacity = replay_buffer_size)\n",
        "    self.t_step = 0\n",
        "\n",
        "  # store the experiences in the replay memory\n",
        "  def step(self, state, action, reward, next_state, done):\n",
        "    self.memory.push((state, action, reward, next_state, done))\n",
        "    self.t_step = (self.t_step + 1) % 4\n",
        "    if self.t_step == 0:\n",
        "      if len(self.memory.memory) > minibatch_size:\n",
        "        experiences = self.memory.sample(100)\n",
        "        self.learn(experiences, discount_factor)\n",
        "\n",
        "  # select an action based on epsilon-greedy action selection policy\n",
        "  def act(self, state, epsilon = 0.):\n",
        "    state = torch.from_numpy(state).float().unsqueeze(0).to(self.device)          # add an extra dimension to the state which correspond to the batch\n",
        "    self.local_qnetwork.eval()    # set our local_qnetwork which is an instance of Network class in evaluate mode\n",
        "    with torch.no_grad():        # it makes sure that any gradient computation is disabled\n",
        "      action_values = self.local_qnetwork(state)\n",
        "    self.local_qnetwork.train()\n",
        "    if random.random() > epsilon:\n",
        "      return np.argmax(action_values.cpu().data.numpy())  # np.argamx expects a numpy format of data we add .data.numpy ; .data.numpy() converts the tensor to a NumPy array\n",
        "    else:\n",
        "      return random.choice(np.arange(self.action_size))\n",
        "\n",
        "  # update the agent's Q values based on sampled experiences\n",
        "  def learn(self, experiences, discount_factor):\n",
        "    states, next_states, actions, rewards, dones = experiences\n",
        "    # it gives the action_values of the target Q network propagating the next state; detach the action values in the tensor in order to get the max value\n",
        "    # find the max along dimension 1  of the tensor which is the action dimension and select 0 which is the tensor corrensponding to the indices of the max values\n",
        "    next_q_targets = self.target_qnetwork(next_states).detach().max(1)[0].unsqueeze(1)  # add dimension of the batch at position 1\n",
        "    q_targets = rewards + (discount_factor * next_q_targets * (1 - dones))  # important formula (remember)\n",
        "    q_expected = self.local_qnetwork(states).gather(1, actions)     # forward propagate the states from local q network\n",
        "    loss = F.mse_loss(q_expected, q_targets)\n",
        "    self.optimizer.zero_grad()      # reset the optimizer\n",
        "    loss.backward()\n",
        "    self.optimizer.step()\n",
        "    self.soft_update(self.local_qnetwork, self.target_qnetwork, interpolation_parameter)\n",
        "\n",
        "  # softly update the target network's parameters\n",
        "  def soft_update(self, local_model, target_model, interpolation_parameter):\n",
        "    for target_param, local_param in zip(target_model.parameters(), local_model.parameters()):        # .parameters gives the parameters of the model\n",
        "      target_param.data.copy_(interpolation_parameter * local_param.data + (1.0 - interpolation_parameter) * target_param.data)\n",
        ""
      ],
      "metadata": {
        "id": "vzdV8Jqe6dSS"
      },
      "execution_count": 7,
      "outputs": []
    },
    {
      "cell_type": "markdown",
      "metadata": {
        "id": "o1tZElccZmf6"
      },
      "source": [
        "### Initializing the DQN agent"
      ]
    },
    {
      "cell_type": "code",
      "source": [
        "agent = Agent(state_size, number_actions)"
      ],
      "metadata": {
        "id": "z1NITPDQORuE"
      },
      "execution_count": 8,
      "outputs": []
    },
    {
      "cell_type": "markdown",
      "metadata": {
        "id": "E8v0PtUfaVQp"
      },
      "source": [
        "### Training the DQN agent"
      ]
    },
    {
      "cell_type": "code",
      "source": [
        "number_episodes = 2000\n",
        "maximum_number_timesteps_per_episode = 1000\n",
        "epsilon_starting_value  = 1.0\n",
        "epsilon_ending_value  = 0.01\n",
        "epsilon_decay_value  = 0.995\n",
        "epsilon = epsilon_starting_value\n",
        "scores_on_100_episodes = deque(maxlen = 100)\n",
        "\n",
        "for episode in range(1, number_episodes + 1):\n",
        "  state, _ = env.reset() # reset the environment to its inital state at the beginning of every episode\n",
        "  score = 0\n",
        "  for t in range(maximum_number_timesteps_per_episode):\n",
        "    action = agent.act(state, epsilon)\n",
        "    next_state, reward, done, _, _ = env.step(action)\n",
        "    agent.step(state, action, reward, next_state, done)\n",
        "    state = next_state\n",
        "    score += reward\n",
        "    if done:\n",
        "      break\n",
        "  scores_on_100_episodes.append(score)\n",
        "  epsilon = max(epsilon_ending_value, epsilon_decay_value * epsilon)\n",
        "  print('\\rEpisode {}\\tAverage Score: {:.2f}'.format(episode, np.mean(scores_on_100_episodes)), end = \"\")\n",
        "  if episode % 100 == 0:\n",
        "    print('\\rEpisode {}\\tAverage Score: {:.2f}'.format(episode, np.mean(scores_on_100_episodes)))\n",
        "  if np.mean(scores_on_100_episodes) >= 200.0:\n",
        "    print('\\nEnvironment solved in {:d} episodes!\\tAverage Score: {:.2f}'.format(episode, np.mean(scores_on_100_episodes)))\n",
        "    torch.save(agent.local_qnetwork.state_dict(), 'checkpoint.pth')\n",
        "    break\n",
        ""
      ],
      "metadata": {
        "colab": {
          "base_uri": "https://localhost:8080/"
        },
        "id": "2m6AXcoBrO_o",
        "outputId": "ae3b5bf3-b389-429c-c159-2dca47dd9047"
      },
      "execution_count": 9,
      "outputs": [
        {
          "output_type": "stream",
          "name": "stderr",
          "text": [
            "/usr/local/lib/python3.10/dist-packages/ipykernel/ipkernel.py:283: DeprecationWarning: `should_run_async` will not call `transform_cell` automatically in the future. Please pass the result to `transformed_cell` argument and any exception that happen during thetransform in `preprocessing_exc_tuple` in IPython 7.17 and above.\n",
            "  and should_run_async(code)\n"
          ]
        },
        {
          "output_type": "stream",
          "name": "stdout",
          "text": [
            "Episode 100\tAverage Score: -149.85\n",
            "Episode 200\tAverage Score: -95.68\n",
            "Episode 300\tAverage Score: -62.84\n",
            "Episode 400\tAverage Score: -23.97\n",
            "Episode 500\tAverage Score: 28.64\n",
            "Episode 600\tAverage Score: 121.54\n",
            "Episode 700\tAverage Score: 158.11\n",
            "Episode 800\tAverage Score: 190.04\n",
            "Episode 818\tAverage Score: 200.94\n",
            "Environment solved in 818 episodes!\tAverage Score: 200.94\n"
          ]
        }
      ]
    },
    {
      "cell_type": "markdown",
      "metadata": {
        "id": "O8CNwdOTcCoP"
      },
      "source": [
        "## Part 3 - Visualizing the results"
      ]
    },
    {
      "cell_type": "code",
      "execution_count": 14,
      "metadata": {
        "id": "cb9nVvU2Okhk",
        "colab": {
          "base_uri": "https://localhost:8080/",
          "height": 459
        },
        "outputId": "8b9989d9-d283-4cc1-b793-e6d614fe87a2"
      },
      "outputs": [
        {
          "output_type": "stream",
          "name": "stderr",
          "text": [
            "WARNING:imageio_ffmpeg:IMAGEIO FFMPEG_WRITER WARNING: input image is not divisible by macro_block_size=16, resizing from (600, 400) to (608, 400) to ensure video compatibility with most codecs and players. To prevent resizing, make your input image divisible by the macro_block_size or set the macro_block_size to 1 (risking incompatibility).\n"
          ]
        },
        {
          "output_type": "display_data",
          "data": {
            "text/plain": [
              "<IPython.core.display.HTML object>"
            ],
            "text/html": [
              "<video alt=\"test\" autoplay\n",
              "                loop controls style=\"height: 400px;\">\n",
              "                <source src=\"data:video/mp4;base64,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\" type=\"video/mp4\" />\n",
              "             </video>"
            ]
          },
          "metadata": {}
        }
      ],
      "source": [
        "import glob\n",
        "import io\n",
        "import base64\n",
        "import imageio\n",
        "from IPython.display import HTML, display\n",
        "from gym.wrappers.monitoring.video_recorder import VideoRecorder\n",
        "\n",
        "def show_video_of_model(agent, env_name):\n",
        "    env = gym.make(env_name, render_mode='rgb_array')\n",
        "    state, _ = env.reset()\n",
        "    done = False\n",
        "    frames = []\n",
        "    while not done:\n",
        "        frame = env.render()\n",
        "        frames.append(frame)\n",
        "        action = agent.act(state)\n",
        "        state, reward, done, _, _ = env.step(action.item())\n",
        "    env.close()\n",
        "    imageio.mimsave('video.mp4', frames, fps=30)\n",
        "\n",
        "show_video_of_model(agent, 'LunarLander-v2')\n",
        "\n",
        "def show_video():\n",
        "    mp4list = glob.glob('*.mp4')\n",
        "    if len(mp4list) > 0:\n",
        "        mp4 = mp4list[0]\n",
        "        video = io.open(mp4, 'r+b').read()\n",
        "        encoded = base64.b64encode(video)\n",
        "        display(HTML(data='''<video alt=\"test\" autoplay\n",
        "                loop controls style=\"height: 400px;\">\n",
        "                <source src=\"data:video/mp4;base64,{0}\" type=\"video/mp4\" />\n",
        "             </video>'''.format(encoded.decode('ascii'))))\n",
        "    else:\n",
        "        print(\"Could not find video\")\n",
        "\n",
        "show_video()"
      ]
    }
  ],
  "metadata": {
    "colab": {
      "provenance": []
    },
    "kernelspec": {
      "display_name": "Python 3",
      "name": "python3"
    },
    "language_info": {
      "name": "python"
    }
  },
  "nbformat": 4,
  "nbformat_minor": 0
}